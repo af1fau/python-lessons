{
  "cells": [
    {
      "cell_type": "markdown",
      "id": "bf79c78b",
      "metadata": {
        "id": "bf79c78b"
      },
      "source": [
        "![Imgur](https://i.imgur.com/h4PPC71.png)\n",
        "#Data Sayns va Sunʼiy Intellekt Praktikum\n",
        "\n",
        "#8.26. NumPy kutubxonasi boʻyicha amaliy vazifa\n",
        "\n",
        "Topshiriqni aynan qanday funksiyalar yordamida bajarish mumkinligi `💡Ishora` koʻrinishida berilgan."
      ]
    },
    {
      "cell_type": "markdown",
      "id": "017db353",
      "metadata": {
        "id": "017db353"
      },
      "source": [
        "#### 1. NumPy kutubxonasini `np` nomi ostida yuklang va uni chop eting.\n",
        "\n",
        "Versiya va konfiguratsiyani tekshiring.\n"
      ]
    },
    {
      "cell_type": "markdown",
      "source": [
        "`💡Ishora` import … as` and `np.__version__, np.show_config"
      ],
      "metadata": {
        "id": "e28779fe"
      },
      "id": "e28779fe"
    },
    {
      "cell_type": "code",
      "source": [
        "import numpy as np"
      ],
      "metadata": {
        "id": "_pCbn1ieI3u9"
      },
      "id": "_pCbn1ieI3u9",
      "execution_count": 1,
      "outputs": []
    },
    {
      "cell_type": "markdown",
      "id": "46950f4f",
      "metadata": {
        "id": "46950f4f"
      },
      "source": [
        "#### 2. Raqamli qiymatlar roʻyxatini bir oʻlchovli NumPy massiviga aylantiring."
      ]
    },
    {
      "cell_type": "markdown",
      "source": [
        "`💡Ishora` numpy.array"
      ],
      "metadata": {
        "id": "9b0e875f"
      },
      "id": "9b0e875f"
    },
    {
      "cell_type": "code",
      "source": [
        "royxat = [1, 2, 3, 4, 5]\n",
        "massiv = np.array(royxat)\n",
        "print(massiv)"
      ],
      "metadata": {
        "id": "dgnzjeT3JCi4"
      },
      "id": "dgnzjeT3JCi4",
      "execution_count": null,
      "outputs": []
    },
    {
      "cell_type": "markdown",
      "id": "e3c20b3d",
      "metadata": {
        "id": "e3c20b3d"
      },
      "source": [
        "#### 3. Qiymatlari noldan iborat boʻlgan toʻqqiz oʻlchovli massiv yarating.\n",
        "\n"
      ]
    },
    {
      "cell_type": "markdown",
      "source": [
        "`💡Ishora` np.zeros"
      ],
      "metadata": {
        "id": "96d0b63e"
      },
      "id": "96d0b63e"
    },
    {
      "cell_type": "code",
      "source": [
        "import numpy as np\n",
        "massiv = np.zeros((1, 1, 1, 1, 1, 1, 1, 1, 1))\n",
        "print(\"Massiv shakli:\", massiv.shape)\n",
        "print(\"Massiv o'zi:\\n\", massiv)"
      ],
      "metadata": {
        "id": "-i0A0NNUkm7c",
        "outputId": "4f5d2a59-c0f3-40ad-b7c1-7507aed34810",
        "colab": {
          "base_uri": "https://localhost:8080/"
        }
      },
      "id": "-i0A0NNUkm7c",
      "execution_count": 2,
      "outputs": [
        {
          "output_type": "stream",
          "name": "stdout",
          "text": [
            "Massiv shakli: (1, 1, 1, 1, 1, 1, 1, 1, 1)\n",
            "Massiv o'zi:\n",
            " [[[[[[[[[0.]]]]]]]]]\n"
          ]
        }
      ]
    },
    {
      "cell_type": "markdown",
      "id": "b15a879f",
      "metadata": {
        "id": "b15a879f"
      },
      "source": [
        "#### 4. Massiv yarating va uning xotira hajmini toping.\n",
        "\n"
      ]
    },
    {
      "cell_type": "markdown",
      "source": [
        "`💡Ishora` size, itemsize"
      ],
      "metadata": {
        "id": "32f9025c"
      },
      "id": "32f9025c"
    },
    {
      "cell_type": "code",
      "source": [
        "a = np.array([1, 2, 3, 4, 5])\n",
        "print(\"Har bir element hajmi:\", a.itemsize, \"bayt\")"
      ],
      "metadata": {
        "id": "MZxcJM_oJOTs",
        "outputId": "c8123922-1e35-4f15-e029-e7277b22fbc8",
        "colab": {
          "base_uri": "https://localhost:8080/"
        }
      },
      "id": "MZxcJM_oJOTs",
      "execution_count": 3,
      "outputs": [
        {
          "output_type": "stream",
          "name": "stdout",
          "text": [
            "Har bir element hajmi: 8 bayt\n"
          ]
        }
      ]
    },
    {
      "cell_type": "markdown",
      "id": "0a708990",
      "metadata": {
        "id": "0a708990"
      },
      "source": [
        "#### 5. NumPy kutubxonasidagi `add` funksiyasi hujjatlarini buyruq satridan qanday olishi mumkin?\n"
      ]
    },
    {
      "cell_type": "markdown",
      "source": [
        "`💡Ishora` np.info"
      ],
      "metadata": {
        "id": "d254eea5"
      },
      "id": "d254eea5"
    },
    {
      "cell_type": "code",
      "source": [
        "np.info(np.add)"
      ],
      "metadata": {
        "id": "m7nA_vYsJVUi",
        "outputId": "2b8e32c3-36e9-4bbc-819e-18e7dd9b23c6",
        "colab": {
          "base_uri": "https://localhost:8080/"
        }
      },
      "id": "m7nA_vYsJVUi",
      "execution_count": 4,
      "outputs": [
        {
          "output_type": "stream",
          "name": "stdout",
          "text": [
            "add(x1, x2, /, out=None, *, where=True, casting='same_kind', order='K', dtype=None, subok=True[, signature])\n",
            "\n",
            "Add arguments element-wise.\n",
            "\n",
            "Parameters\n",
            "----------\n",
            "x1, x2 : array_like\n",
            "    The arrays to be added.\n",
            "    If ``x1.shape != x2.shape``, they must be broadcastable to a common\n",
            "    shape (which becomes the shape of the output).\n",
            "out : ndarray, None, or tuple of ndarray and None, optional\n",
            "    A location into which the result is stored. If provided, it must have\n",
            "    a shape that the inputs broadcast to. If not provided or None,\n",
            "    a freshly-allocated array is returned. A tuple (possible only as a\n",
            "    keyword argument) must have length equal to the number of outputs.\n",
            "where : array_like, optional\n",
            "    This condition is broadcast over the input. At locations where the\n",
            "    condition is True, the `out` array will be set to the ufunc result.\n",
            "    Elsewhere, the `out` array will retain its original value.\n",
            "    Note that if an uninitialized `out` array is created via the default\n",
            "    ``out=None``, locations within it where the condition is False will\n",
            "    remain uninitialized.\n",
            "**kwargs\n",
            "    For other keyword-only arguments, see the\n",
            "    :ref:`ufunc docs <ufuncs.kwargs>`.\n",
            "\n",
            "Returns\n",
            "-------\n",
            "add : ndarray or scalar\n",
            "    The sum of `x1` and `x2`, element-wise.\n",
            "    This is a scalar if both `x1` and `x2` are scalars.\n",
            "\n",
            "Notes\n",
            "-----\n",
            "Equivalent to `x1` + `x2` in terms of array broadcasting.\n",
            "\n",
            "Examples\n",
            "--------\n",
            ">>> np.add(1.0, 4.0)\n",
            "5.0\n",
            ">>> x1 = np.arange(9.0).reshape((3, 3))\n",
            ">>> x2 = np.arange(3.0)\n",
            ">>> np.add(x1, x2)\n",
            "array([[  0.,   2.,   4.],\n",
            "       [  3.,   5.,   7.],\n",
            "       [  6.,   8.,  10.]])\n",
            "\n",
            "The ``+`` operator can be used as a shorthand for ``np.add`` on ndarrays.\n",
            "\n",
            ">>> x1 = np.arange(9.0).reshape((3, 3))\n",
            ">>> x2 = np.arange(3.0)\n",
            ">>> x1 + x2\n",
            "array([[ 0.,  2.,  4.],\n",
            "       [ 3.,  5.,  7.],\n",
            "       [ 6.,  8., 10.]])\n"
          ]
        }
      ]
    },
    {
      "cell_type": "markdown",
      "id": "0b16cd77",
      "metadata": {
        "id": "0b16cd77"
      },
      "source": [
        "#### 6. Shunday vekor yaratingki u oʻn ikki oʻlchamda va qiymatlari noldan iborat boʻlsin, lekin vektorning oltinchi qiymati 1 ga teng boʻlsin.\n",
        "\n"
      ]
    },
    {
      "cell_type": "markdown",
      "source": [
        "`💡Ishora` array[12]"
      ],
      "metadata": {
        "id": "05223560"
      },
      "id": "05223560"
    },
    {
      "cell_type": "code",
      "source": [
        "vektor = np.zeros(12)\n",
        "vektor[5] = 1\n",
        "print(\"Vektor:\", vektor)"
      ],
      "metadata": {
        "id": "UJfYDNQoJc7M"
      },
      "id": "UJfYDNQoJc7M",
      "execution_count": null,
      "outputs": []
    },
    {
      "cell_type": "markdown",
      "id": "782d4c77",
      "metadata": {
        "id": "782d4c77"
      },
      "source": [
        "#### 7. Qiymatlari 20 dan 59 gacha boʻlgan vektor yarating.\n",
        "\n"
      ]
    },
    {
      "cell_type": "markdown",
      "source": [
        "`💡Ishora` arange"
      ],
      "metadata": {
        "id": "7250d114"
      },
      "id": "7250d114"
    },
    {
      "cell_type": "code",
      "source": [
        "vektor = np.arange(20, 60)\n",
        "\n",
        "print(\"Vektor:\", vektor)"
      ],
      "metadata": {
        "id": "fSaWkGakJhwz"
      },
      "id": "fSaWkGakJhwz",
      "execution_count": null,
      "outputs": []
    },
    {
      "cell_type": "markdown",
      "id": "48d48f01",
      "metadata": {
        "id": "48d48f01"
      },
      "source": [
        "#### 8. Vektor yarating va uni teskari oʻzgartiring, (birinchi element oxirgisi boʻlsin)\n",
        "\n"
      ]
    },
    {
      "cell_type": "markdown",
      "source": [
        "`💡Ishora` array[::-1]"
      ],
      "metadata": {
        "id": "fb702ae0"
      },
      "id": "fb702ae0"
    },
    {
      "cell_type": "code",
      "source": [
        "vektor =np.arange(1,11)\n",
        "teskari_vektor = vektor[::-1]\n",
        "print(teskari_vektor)"
      ],
      "metadata": {
        "id": "GCP6vp_WJrON",
        "outputId": "ccb82949-25bb-45c6-e63b-f3aee9640cb2",
        "colab": {
          "base_uri": "https://localhost:8080/"
        }
      },
      "id": "GCP6vp_WJrON",
      "execution_count": 6,
      "outputs": [
        {
          "output_type": "stream",
          "name": "stdout",
          "text": [
            "[10  9  8  7  6  5  4  3  2  1]\n"
          ]
        }
      ]
    },
    {
      "cell_type": "markdown",
      "id": "4fa39382",
      "metadata": {
        "id": "4fa39382"
      },
      "source": [
        "#### 9. 12 dan 20 gacha boʻlgan qiymatlarga ega 3x3 matritsa yarating.\n"
      ]
    },
    {
      "cell_type": "markdown",
      "source": [
        "`💡Ishora` reshape"
      ],
      "metadata": {
        "id": "97e6be92"
      },
      "id": "97e6be92"
    },
    {
      "cell_type": "code",
      "source": [
        "sonlar = np.arange(12, 21)\n",
        "matritsa = sonlar.reshape(3, 3)\n",
        "print(\"3x3 matritsa:\\n\", matritsa)"
      ],
      "metadata": {
        "id": "Ve7gEGjuJxxw",
        "outputId": "47b79ca6-2a84-44b4-c76e-6834cbbb0681",
        "colab": {
          "base_uri": "https://localhost:8080/"
        }
      },
      "id": "Ve7gEGjuJxxw",
      "execution_count": 7,
      "outputs": [
        {
          "output_type": "stream",
          "name": "stdout",
          "text": [
            "3x3 matritsa:\n",
            " [[12 13 14]\n",
            " [15 16 17]\n",
            " [18 19 20]]\n"
          ]
        }
      ]
    },
    {
      "cell_type": "markdown",
      "id": "da64551a",
      "metadata": {
        "id": "da64551a"
      },
      "source": [
        "#### 10. Quyidagi matritsadan foydalanib nolga teng boʻlmagan elementlarning indekslarini toping.\n",
        "[3, 7, 0, 0, 9, 0]\n",
        "\n",
        "\n",
        "\n"
      ]
    },
    {
      "cell_type": "markdown",
      "source": [
        "`💡Ishora` np.nonzero"
      ],
      "metadata": {
        "id": "322b2b68"
      },
      "id": "322b2b68"
    },
    {
      "cell_type": "code",
      "source": [
        "vektor = np.array([3, 7, 0, 0, 9, 0])\n",
        "indekslar = np.nonzero(vektor)\n",
        "print(\"Nolga teng bo'lmagan elementlar indekslari:\", indekslar[0])"
      ],
      "metadata": {
        "id": "fNIuSyBaJ4OP",
        "outputId": "58dd729d-698a-4a49-e74e-995062e6ee4e",
        "colab": {
          "base_uri": "https://localhost:8080/"
        }
      },
      "id": "fNIuSyBaJ4OP",
      "execution_count": 8,
      "outputs": [
        {
          "output_type": "stream",
          "name": "stdout",
          "text": [
            "Nolga teng bo'lmagan elementlar indekslari: [0 1 4]\n"
          ]
        }
      ]
    },
    {
      "cell_type": "markdown",
      "id": "f89d9c9e",
      "metadata": {
        "id": "f89d9c9e"
      },
      "source": [
        "#### 11. Tasodifiy qiymatlar bilan 2x2x2 oʻlchovidagi massiv yarating.\n"
      ]
    },
    {
      "cell_type": "markdown",
      "source": [
        "`💡Ishora` np.random.random"
      ],
      "metadata": {
        "id": "5717e1c1"
      },
      "id": "5717e1c1"
    },
    {
      "cell_type": "code",
      "source": [
        "massiv = np.random.rand(2, 2, 2)\n",
        "\n",
        "print(\"2x2x2 tasodifiy massiv:\\n\", massiv)"
      ],
      "metadata": {
        "id": "bHloeqHOKuiX",
        "outputId": "b5b5f1e1-14fe-4082-a06b-f8bce7a87f49",
        "colab": {
          "base_uri": "https://localhost:8080/"
        }
      },
      "id": "bHloeqHOKuiX",
      "execution_count": 9,
      "outputs": [
        {
          "output_type": "stream",
          "name": "stdout",
          "text": [
            "2x2x2 tasodifiy massiv:\n",
            " [[[0.97413942 0.73394853]\n",
            "  [0.29818002 0.12488493]]\n",
            "\n",
            " [[0.47849294 0.21856766]\n",
            "  [0.27401803 0.98196867]]]\n"
          ]
        }
      ]
    },
    {
      "cell_type": "markdown",
      "id": "13c5928c",
      "metadata": {
        "id": "13c5928c"
      },
      "source": [
        "#### 12. Tasodifiy sonlardan tashkil topgan 9X9 oʻlchamidagi massiv yarating. Soʻng uning eng katta va eng kichik qiymatlarini toping.\n"
      ]
    },
    {
      "cell_type": "markdown",
      "source": [
        "`💡Ishora` min, max"
      ],
      "metadata": {
        "id": "0ede4d26"
      },
      "id": "0ede4d26"
    },
    {
      "cell_type": "code",
      "source": [
        "massiv = np.random.rand(9, 9)\n",
        "eng_katta = np.max(massiv)\n",
        "eng_kichik = np.min(massiv)\n",
        "print(\"Massiv:\\n\", massiv)\n",
        "print(\"\\nEng katta qiymat:\", eng_katta)\n",
        "print(\"Eng kichik qiymat:\", eng_kichik)"
      ],
      "metadata": {
        "id": "OJiVa5K9LJyb",
        "outputId": "b3b75b24-48a5-4479-f531-a8c048d9f5f6",
        "colab": {
          "base_uri": "https://localhost:8080/"
        }
      },
      "id": "OJiVa5K9LJyb",
      "execution_count": 10,
      "outputs": [
        {
          "output_type": "stream",
          "name": "stdout",
          "text": [
            "Massiv:\n",
            " [[0.03167602 0.65874229 0.21318027 0.35559536 0.75370778 0.89460258\n",
            "  0.84768272 0.73774386 0.69354745]\n",
            " [0.49779914 0.21591578 0.17263757 0.14106318 0.90060961 0.89030373\n",
            "  0.57922281 0.05063623 0.88981555]\n",
            " [0.42789059 0.00563713 0.18442245 0.61289456 0.56746208 0.52928768\n",
            "  0.30372548 0.61975388 0.61980469]\n",
            " [0.19376344 0.44753179 0.92207598 0.23430863 0.71510072 0.85382001\n",
            "  0.88749847 0.32493406 0.28972389]\n",
            " [0.98791183 0.74141184 0.05315133 0.146875   0.24958846 0.3426364\n",
            "  0.65618113 0.54735312 0.15390059]\n",
            " [0.55064511 0.00402772 0.84045335 0.22011773 0.6096949  0.9499138\n",
            "  0.09686668 0.19956261 0.36139814]\n",
            " [0.212816   0.52064175 0.53408301 0.04091084 0.14572187 0.71328376\n",
            "  0.70588154 0.78272108 0.81011858]\n",
            " [0.31131848 0.2490827  0.90647081 0.89154726 0.7607222  0.56248465\n",
            "  0.88378214 0.43333927 0.757708  ]\n",
            " [0.2462572  0.5186849  0.11592476 0.66766611 0.58124789 0.36019096\n",
            "  0.77459929 0.86485845 0.29794907]]\n",
            "\n",
            "Eng katta qiymat: 0.9879118292330897\n",
            "Eng kichik qiymat: 0.004027723261700311\n"
          ]
        }
      ]
    },
    {
      "cell_type": "markdown",
      "id": "3fa2e461",
      "metadata": {
        "id": "3fa2e461"
      },
      "source": [
        "#### 13. Quyidagi misol qanday natija beradi?\n",
        "\n",
        "\n",
        "```python\n",
        "0 * np.nan\n",
        "np.nan == np.nan\n",
        "np.inf > np.nan\n",
        "np.nan - np.nan\n",
        "np.nan in set([np.nan])\n",
        "0.7 == 7 * 0.1\n",
        "```\n"
      ]
    },
    {
      "cell_type": "markdown",
      "source": [
        "`💡Ishora` NaN = not a number, inf = infinity"
      ],
      "metadata": {
        "id": "c0048e59"
      },
      "id": "c0048e59"
    },
    {
      "cell_type": "code",
      "source": [
        "0 * np.nan\n",
        "np.nan == np.nan\n",
        "np.inf > np.nan\n",
        "np.nan - np.nan\n",
        "np.nan in set([np.nan])\n",
        "0.7 == 7 * 0.1"
      ],
      "metadata": {
        "id": "Thbqd_RCLf_e",
        "outputId": "26560c99-c970-4f72-909a-70bb26ce3a12",
        "colab": {
          "base_uri": "https://localhost:8080/"
        }
      },
      "id": "Thbqd_RCLf_e",
      "execution_count": 11,
      "outputs": [
        {
          "output_type": "execute_result",
          "data": {
            "text/plain": [
              "False"
            ]
          },
          "metadata": {},
          "execution_count": 11
        }
      ]
    },
    {
      "cell_type": "markdown",
      "id": "73f7a549",
      "metadata": {
        "id": "73f7a549"
      },
      "source": [
        "#### 14. Oʻlchamlari 6x3 va 3x4 boʻlgan martitsa yarating, soʻng ularning  koʻpaytmasini hisoblang.\n",
        "\n"
      ]
    },
    {
      "cell_type": "markdown",
      "source": [
        "`💡Ishora` np.dot` or `np.ones"
      ],
      "metadata": {
        "id": "351ff928"
      },
      "id": "351ff928"
    },
    {
      "cell_type": "code",
      "source": [
        "A = np.random.randint(0, 10, size=(6, 3))  # 6x3 matritsa\n",
        "B = np.random.randint(0, 10, size=(3, 4))  # 3x4 matritsa\n",
        "C = np.dot(A, B)\n",
        "\n",
        "print(\"Matritsa A (6x3):\\n\", A)\n",
        "print(\"\\nMatritsa B (3x4):\\n\", B)\n",
        "print(\"\\nKo'paytma C = A × B (6x4):\\n\", C)"
      ],
      "metadata": {
        "id": "e_5QUFcPLtVX",
        "outputId": "54cc8293-624e-4abb-c882-bb012b1bdb4f",
        "colab": {
          "base_uri": "https://localhost:8080/"
        }
      },
      "id": "e_5QUFcPLtVX",
      "execution_count": 12,
      "outputs": [
        {
          "output_type": "stream",
          "name": "stdout",
          "text": [
            "Matritsa A (6x3):\n",
            " [[4 2 7]\n",
            " [2 7 3]\n",
            " [7 8 2]\n",
            " [2 3 2]\n",
            " [6 7 9]\n",
            " [8 2 6]]\n",
            "\n",
            "Matritsa B (3x4):\n",
            " [[4 8 3 0]\n",
            " [7 8 1 9]\n",
            " [7 5 8 6]]\n",
            "\n",
            "Ko'paytma C = A × B (6x4):\n",
            " [[ 79  83  70  60]\n",
            " [ 78  87  37  81]\n",
            " [ 98 130  45  84]\n",
            " [ 43  50  25  39]\n",
            " [136 149  97 117]\n",
            " [ 88 110  74  54]]\n"
          ]
        }
      ]
    },
    {
      "cell_type": "markdown",
      "id": "6d0c506f",
      "metadata": {
        "id": "6d0c506f"
      },
      "source": [
        "#### 15. Quyidagi misol qanday natija beradi?\n",
        "\n",
        "```python\n",
        "print(sum(range(5),-1))\n",
        "from numpy import *\n",
        "print(sum(range(5),-1))\n",
        "```"
      ]
    },
    {
      "cell_type": "code",
      "execution_count": 13,
      "id": "c1cc1143",
      "metadata": {
        "id": "c1cc1143",
        "outputId": "aded6560-1604-4fea-ce9b-e9bb970c3568",
        "colab": {
          "base_uri": "https://localhost:8080/"
        }
      },
      "outputs": [
        {
          "output_type": "stream",
          "name": "stdout",
          "text": [
            "9\n",
            "10\n"
          ]
        }
      ],
      "source": [
        "print(sum(range(5),-1))\n",
        "from numpy import *\n",
        "print(sum(range(5),-1))"
      ]
    },
    {
      "cell_type": "markdown",
      "id": "d6ad1a9f",
      "metadata": {
        "id": "d6ad1a9f"
      },
      "source": [
        "#### 16. NumPy kutubxonasi yordamida ikkita massivni solishtiring va ular usida quyidagi amallarni bajaring.\n",
        "\n",
        "```python\n",
        "Array a: [1 2]\n",
        "Array b: [4 5]\n",
        "a > b\n",
        "[False False]\n",
        "a >= b\n",
        "[False False]\n",
        "a < b\n",
        "[ True True]\n",
        "a <= b\n",
        "[ True True]\n",
        "```"
      ]
    },
    {
      "cell_type": "code",
      "execution_count": 14,
      "id": "7ba3c441",
      "metadata": {
        "id": "7ba3c441",
        "outputId": "f6d37fe1-856f-4d0b-a2c5-6046720ffd97",
        "colab": {
          "base_uri": "https://localhost:8080/"
        }
      },
      "outputs": [
        {
          "output_type": "stream",
          "name": "stdout",
          "text": [
            "a > b: [False False]\n",
            "a >= b: [False False]\n",
            "a < b: [ True  True]\n",
            "a <= b: [ True  True]\n"
          ]
        }
      ],
      "source": [
        "a = np.array([1, 2])\n",
        "b = np.array([4, 5])\n",
        "\n",
        "# Elementlar bo‘yicha taqqoslash\n",
        "print(\"a > b:\", a > b)\n",
        "print(\"a >= b:\", a >= b)\n",
        "print(\"a < b:\", a < b)\n",
        "print(\"a <= b:\", a <= b)"
      ]
    },
    {
      "cell_type": "markdown",
      "id": "e3a7ba7f",
      "metadata": {
        "id": "e3a7ba7f"
      },
      "source": [
        "#### 17. Quyidagi misol qanday natija beradi?\n",
        "\n",
        "```python\n",
        "np.array(0) / np.array(0)\n",
        "np.array(0) // np.array(0)\n",
        "np.array([np.nan]).astype(int).astype(float)\n",
        "```"
      ]
    },
    {
      "cell_type": "code",
      "execution_count": 15,
      "id": "b874734e",
      "metadata": {
        "id": "b874734e",
        "outputId": "7b06c676-a6fe-48b5-a52f-d6da8b7acbc5",
        "colab": {
          "base_uri": "https://localhost:8080/"
        }
      },
      "outputs": [
        {
          "output_type": "stream",
          "name": "stderr",
          "text": [
            "/tmp/ipython-input-15-548293649.py:1: RuntimeWarning: invalid value encountered in divide\n",
            "  np.array(0) / np.array(0)\n",
            "/tmp/ipython-input-15-548293649.py:2: RuntimeWarning: divide by zero encountered in floor_divide\n",
            "  np.array(0) // np.array(0)\n",
            "/tmp/ipython-input-15-548293649.py:3: RuntimeWarning: invalid value encountered in cast\n",
            "  np.array([np.nan]).astype(int).astype(float)\n"
          ]
        },
        {
          "output_type": "execute_result",
          "data": {
            "text/plain": [
              "array([-9.22337204e+18])"
            ]
          },
          "metadata": {},
          "execution_count": 15
        }
      ],
      "source": [
        "np.array(0) / np.array(0)\n",
        "np.array(0) // np.array(0)\n",
        "np.array([np.nan]).astype(int).astype(float)"
      ]
    },
    {
      "cell_type": "markdown",
      "id": "6d17ab5d",
      "metadata": {
        "id": "6d17ab5d"
      },
      "source": [
        "#### 18. Ikkita massiv yarating va ular orasidagi umumiy qiymatlarni toping.\n"
      ]
    },
    {
      "cell_type": "markdown",
      "source": [],
      "metadata": {
        "id": "obItFDDTvKFI"
      },
      "id": "obItFDDTvKFI"
    },
    {
      "cell_type": "markdown",
      "source": [
        "`💡Ishora` np.intersect1d"
      ],
      "metadata": {
        "id": "4c4e2c5e"
      },
      "id": "4c4e2c5e"
    },
    {
      "cell_type": "code",
      "source": [
        "a = np.array([1, 2, 3, 4, 5])\n",
        "b = np.array([4, 5, 6, 7, 8])\n",
        "umumiy = np.intersect1d(a, b)\n",
        "\n",
        "print(\"Massiv a:\", a)\n",
        "print(\"Massiv b:\", b)\n",
        "print(\"Umumiy qiymatlar:\", umumiy)"
      ],
      "metadata": {
        "id": "Dxz5P8WpMeAP",
        "outputId": "6bc8dca7-8826-4a9b-add6-db7441327569",
        "colab": {
          "base_uri": "https://localhost:8080/"
        }
      },
      "id": "Dxz5P8WpMeAP",
      "execution_count": 16,
      "outputs": [
        {
          "output_type": "stream",
          "name": "stdout",
          "text": [
            "Massiv a: [1 2 3 4 5]\n",
            "Massiv b: [4 5 6 7 8]\n",
            "Umumiy qiymatlar: [4 5]\n"
          ]
        }
      ]
    },
    {
      "cell_type": "markdown",
      "id": "8837119b",
      "metadata": {
        "id": "8837119b"
      },
      "source": [
        "#### 19. Tasodifiy sonlardan iborat boʻlgan massiv yarating, soʻng ularni quyida berilgan 4 xil usul yordamida musbat sonlarning butun qismini ajratib oling."
      ]
    },
    {
      "cell_type": "markdown",
      "source": [
        "`💡Ishora` %, np.floor, astype, np.trunc"
      ],
      "metadata": {
        "id": "2b05c544"
      },
      "id": "2b05c544"
    },
    {
      "cell_type": "code",
      "source": [
        "massiv = np.random.uniform(-10, 10, size=10)\n",
        "\n",
        "print(\"Asl massiv:\", massiv)"
      ],
      "metadata": {
        "id": "jc6wN5WWMpS3",
        "outputId": "e9be1fac-5c05-4982-f1e8-da203a544af9",
        "colab": {
          "base_uri": "https://localhost:8080/"
        }
      },
      "id": "jc6wN5WWMpS3",
      "execution_count": 17,
      "outputs": [
        {
          "output_type": "stream",
          "name": "stdout",
          "text": [
            "Asl massiv: [-9.71807728  5.79296625  0.18190575  0.37210595 -2.3169753   0.29074868\n",
            "  2.83212174 -5.79401565 -6.53864339 -2.47628705]\n"
          ]
        }
      ]
    },
    {
      "cell_type": "markdown",
      "id": "ec788c9f",
      "metadata": {
        "id": "ec788c9f"
      },
      "source": [
        "#### 20. Oʻlchovlari 3x3 matritsa yarating, ularning qator qiymatlari 0 dan 2 gacha boʻlsin.\n",
        "\n"
      ]
    },
    {
      "cell_type": "markdown",
      "source": [
        "`💡Ishora` np.arange"
      ],
      "metadata": {
        "id": "c3980b2c"
      },
      "id": "c3980b2c"
    },
    {
      "cell_type": "code",
      "source": [
        "matritsa = np.tile(np.arange(3), (3, 1))\n",
        "\n",
        "print(\"3x3 matritsa:\\n\", matritsa)"
      ],
      "metadata": {
        "id": "ycz3jw4bM0Xk",
        "outputId": "c480c2d7-456e-49e2-d6e1-d3b4806e24c4",
        "colab": {
          "base_uri": "https://localhost:8080/"
        }
      },
      "id": "ycz3jw4bM0Xk",
      "execution_count": 18,
      "outputs": [
        {
          "output_type": "stream",
          "name": "stdout",
          "text": [
            "3x3 matritsa:\n",
            " [[0 1 2]\n",
            " [0 1 2]\n",
            " [0 1 2]]\n"
          ]
        }
      ]
    },
    {
      "cell_type": "markdown",
      "id": "391791e0",
      "metadata": {
        "id": "391791e0"
      },
      "source": [
        "#### 21. Oʻchamlari 10 boʻlgan tasodifiy vektor yarating va uni oʻsish tartibida chiqaruvchi dastur tuzing.\n",
        "\n"
      ]
    },
    {
      "cell_type": "markdown",
      "source": [
        "`💡Ishora` sort"
      ],
      "metadata": {
        "id": "ada71c06"
      },
      "id": "ada71c06"
    },
    {
      "cell_type": "code",
      "source": [
        "vektor = np.random.randint(0, 100, size=10)\n",
        "saralangan = np.sort(vektor)\n",
        "\n",
        "print(\"Asl vektor:\", vektor)\n",
        "print(\"Saralangan vektor:\", saralangan)"
      ],
      "metadata": {
        "id": "TPMqaavROM7g",
        "outputId": "e5c89dd0-642e-49c9-e763-a78c3c0ae905",
        "colab": {
          "base_uri": "https://localhost:8080/"
        }
      },
      "id": "TPMqaavROM7g",
      "execution_count": 19,
      "outputs": [
        {
          "output_type": "stream",
          "name": "stdout",
          "text": [
            "Asl vektor: [31 84 94 64 44 95 71 14 69 85]\n",
            "Saralangan vektor: [14 31 44 64 69 71 84 85 94 95]\n"
          ]
        }
      ]
    },
    {
      "cell_type": "markdown",
      "id": "1e74d39e",
      "metadata": {
        "id": "1e74d39e"
      },
      "source": [
        "#### 22. Ikki tasodifiy A va B massiv yarating, ularning tengligini tekshiring."
      ]
    },
    {
      "cell_type": "markdown",
      "source": [
        "`💡Ishora` np.allclose, np.array_equal"
      ],
      "metadata": {
        "id": "eb0e066c"
      },
      "id": "eb0e066c"
    },
    {
      "cell_type": "code",
      "source": [
        "A = np.random.randint(0, 10, size=5)\n",
        "B = np.random.randint(0, 10, size=5)\n",
        "\n",
        "# Elementlar bo'yicha tenglikni tekshirish\n",
        "element_tenglik = A == B\n",
        "\n",
        "# Umuman tengligini tekshirish (faqat agar hammasi bir xil bo‘lsa True bo'ladi)\n",
        "massivlar_tengmi = np.array_equal(A, B)\n",
        "\n",
        "print(\"Massiv A:\", A)\n",
        "print(\"Massiv B:\", B)\n",
        "print(\"Elementlar bo'yicha tenglik:\", element_tenglik)\n",
        "print(\"Umuman tengmi (array_equal):\", massivlar_tengmi)"
      ],
      "metadata": {
        "id": "xHNWNZnwOT1r",
        "outputId": "1cbf203a-ba0a-40c1-828b-68819a7645f1",
        "colab": {
          "base_uri": "https://localhost:8080/"
        }
      },
      "id": "xHNWNZnwOT1r",
      "execution_count": 20,
      "outputs": [
        {
          "output_type": "stream",
          "name": "stdout",
          "text": [
            "Massiv A: [2 6 8 4 3]\n",
            "Massiv B: [3 7 1 3 2]\n",
            "Elementlar bo'yicha tenglik: [False False False False False]\n",
            "Umuman tengmi (array_equal): False\n"
          ]
        }
      ]
    },
    {
      "cell_type": "markdown",
      "id": "78250c14",
      "metadata": {
        "id": "78250c14"
      },
      "source": [
        "#### 23. Oʻlchamlari 6x3 va 3x4 matritsa tuzing va ularni oʻzaro koʻpaytiring.\n"
      ]
    },
    {
      "cell_type": "markdown",
      "source": [
        "`💡Ishora` np.dot or np.ones"
      ],
      "metadata": {
        "id": "2e482afe"
      },
      "id": "2e482afe"
    },
    {
      "cell_type": "code",
      "source": [
        "# 6x3 o'lchamdagi matritsa (tasodifiy butun sonlar)\n",
        "A = np.random.randint(0, 10, size=(6, 3))\n",
        "\n",
        "# 3x4 o'lchamdagi matritsa (tasodifiy butun sonlar)\n",
        "B = np.random.randint(0, 10, size=(3, 4))\n",
        "\n",
        "# Matritsalarni ko'paytiramiz: A (6x3) × B (3x4) → C (6x4)\n",
        "C = np.dot(A, B)\n",
        "\n",
        "# Natijalarni chiqaramiz\n",
        "print(\"Matritsa A (6x3):\\n\", A)\n",
        "print(\"\\nMatritsa B (3x4):\\n\", B)\n",
        "print(\"\\nKo'paytma C = A × B (6x4):\\n\", C)"
      ],
      "metadata": {
        "id": "ZRlMgdT9POgS",
        "outputId": "52819238-922f-419d-88fd-9dcae99e1f11",
        "colab": {
          "base_uri": "https://localhost:8080/"
        }
      },
      "id": "ZRlMgdT9POgS",
      "execution_count": 21,
      "outputs": [
        {
          "output_type": "stream",
          "name": "stdout",
          "text": [
            "Matritsa A (6x3):\n",
            " [[5 5 5]\n",
            " [9 2 0]\n",
            " [9 4 9]\n",
            " [9 1 8]\n",
            " [9 9 5]\n",
            " [6 2 9]]\n",
            "\n",
            "Matritsa B (3x4):\n",
            " [[9 5 7 5]\n",
            " [8 1 7 5]\n",
            " [0 4 7 0]]\n",
            "\n",
            "Ko'paytma C = A × B (6x4):\n",
            " [[ 85  50 105  50]\n",
            " [ 97  47  77  55]\n",
            " [113  85 154  65]\n",
            " [ 89  78 126  50]\n",
            " [153  74 161  90]\n",
            " [ 70  68 119  40]]\n"
          ]
        }
      ]
    },
    {
      "cell_type": "markdown",
      "id": "51898680",
      "metadata": {
        "id": "51898680"
      },
      "source": [
        "#### 24. Tasodifiy sonlardan iborat boʻlgan oʻlchami 5 ga teng vektor yarating, soʻng uning eng katta qiymatini 0 ga oʻzgartiring.\n"
      ]
    },
    {
      "cell_type": "markdown",
      "source": [
        "`💡Ishora` argmax"
      ],
      "metadata": {
        "id": "ee92ccaf"
      },
      "id": "ee92ccaf"
    },
    {
      "cell_type": "code",
      "source": [
        "vektor = np.array([3, 7, 2, 9, 5])\n",
        "\n",
        "indeks = np.argmax(vektor)\n",
        "qiymat = vektor[indeks]\n",
        "\n",
        "print(\"Vektor:\", vektor)\n",
        "print(\"Eng katta qiymat:\", qiymat)\n",
        "print(\"Uning indeksi:\", indeks)"
      ],
      "metadata": {
        "id": "v9DvyaTNPk_t"
      },
      "id": "v9DvyaTNPk_t",
      "execution_count": null,
      "outputs": []
    },
    {
      "cell_type": "markdown",
      "id": "129c342d",
      "metadata": {
        "id": "129c342d"
      },
      "source": [
        "#### 25. NumPy kutubxonasi yordamida kecha, bugun va ertangi kun sanalarini aniqlang.\n"
      ]
    },
    {
      "cell_type": "markdown",
      "source": [
        "`💡Ishora` np.datetime64, np.timedelta64"
      ],
      "metadata": {
        "id": "0fd2f947"
      },
      "id": "0fd2f947"
    },
    {
      "cell_type": "code",
      "source": [
        "mport numpy as np\n",
        "\n",
        "# Bugungi sana\n",
        "bugun = np.datetime64('today')\n",
        "\n",
        "# Kecha va ertangi sana\n",
        "kecha = bugun - np.timedelta64(1, 'D')\n",
        "ertaga = bugun + np.timedelta64(1, 'D')\n",
        "\n",
        "print(\"Kecha:\", kecha)\n",
        "print(\"Bugun:\", bugun)\n",
        "print(\"Ertaga:\", ertaga)"
      ],
      "metadata": {
        "id": "dlljRGxkSitd"
      },
      "id": "dlljRGxkSitd",
      "execution_count": null,
      "outputs": []
    },
    {
      "cell_type": "markdown",
      "id": "42f8b2f9",
      "metadata": {
        "id": "42f8b2f9"
      },
      "source": [
        "#### 26. 2016 yil yanvar oyiga toʻgʻri keladigan barcha sanalarni NumPy kutubxonasi yordamida aniqlang.\n"
      ]
    },
    {
      "cell_type": "markdown",
      "source": [
        "`💡Ishora` np.arange(dtype=datetime64['D'])"
      ],
      "metadata": {
        "id": "SU1BWcA8Sw2M"
      },
      "id": "SU1BWcA8Sw2M"
    },
    {
      "cell_type": "code",
      "execution_count": null,
      "id": "5ad086b0",
      "metadata": {
        "id": "5ad086b0"
      },
      "outputs": [],
      "source": [
        "# 2016-yil yanvarning 1-sanasidan 2016-yil fevralning 1-sanasigacha bo'lgan oraliq\n",
        "yanvar_sanalari = np.arange('2016-01-01', '2016-02-01', dtype='datetime64[D]')\n",
        "\n",
        "print(\"2016-yil yanvar sanalari:\")\n",
        "print(yanvar_sanalari)"
      ]
    },
    {
      "cell_type": "markdown",
      "id": "486df8ea",
      "metadata": {
        "id": "486df8ea"
      },
      "source": [
        "#### 27. 4 xil usul yordamida musbat sonlarning tasodifiy massivining butun son qismini ajratib oling.\n"
      ]
    },
    {
      "cell_type": "markdown",
      "source": [
        "`💡Ishora` %, np.floor, astype, np.trunc`"
      ],
      "metadata": {
        "id": "h4QM3bp9TDhb"
      },
      "id": "h4QM3bp9TDhb"
    },
    {
      "cell_type": "code",
      "execution_count": 22,
      "id": "2680c1ca",
      "metadata": {
        "id": "2680c1ca",
        "outputId": "2a63009f-8527-4834-bb12-0a589cdfb8f5",
        "colab": {
          "base_uri": "https://localhost:8080/"
        }
      },
      "outputs": [
        {
          "output_type": "stream",
          "name": "stdout",
          "text": [
            "Asl massiv (float):\n",
            " [4.20360013 1.97282597 6.09258244 7.62479007 6.08144783 7.07881796\n",
            " 5.45343388 3.61616977 0.48562327 5.07267915]\n",
            "\n",
            "1‑usul (floor):\n",
            " [4. 1. 6. 7. 6. 7. 5. 3. 0. 5.]\n",
            "\n",
            "2‑usul (trunc):\n",
            " [4. 1. 6. 7. 6. 7. 5. 3. 0. 5.]\n",
            "\n",
            "3‑usul (astype int):\n",
            " [4 1 6 7 6 7 5 3 0 5]\n",
            "\n",
            "4‑usul (fix):\n",
            " [4. 1. 6. 7. 6. 7. 5. 3. 0. 5.]\n"
          ]
        }
      ],
      "source": [
        "# 0–10 oralig‘ida 10 ta tasodifiy (musbat) son\n",
        "x = np.random.uniform(0, 10, size=10)\n",
        "print(\"Asl massiv (float):\\n\", x)\n",
        "\n",
        "# 1‑usul: np.floor  – pastga yaxlitlaydi\n",
        "whole1 = np.floor(x)\n",
        "\n",
        "# 2‑usul: np.trunc  – kasr qismini kesib tashlaydi\n",
        "whole2 = np.trunc(x)\n",
        "\n",
        "# 3‑usul: astype(int) – int ga kasting (kasrni tashlab yuboradi)\n",
        "whole3 = x.astype(int)\n",
        "\n",
        "# 4‑usul: np.fix  – nol tomonga yaxlitlaydi (musbatlarda floor bilan bir xil)\n",
        "whole4 = np.fix(x)\n",
        "\n",
        "print(\"\\n1‑usul (floor):\\n\", whole1)\n",
        "print(\"\\n2‑usul (trunc):\\n\", whole2)\n",
        "print(\"\\n3‑usul (astype int):\\n\", whole3)\n",
        "print(\"\\n4‑usul (fix):\\n\", whole4)\n"
      ]
    },
    {
      "cell_type": "markdown",
      "id": "6415f02e",
      "metadata": {
        "id": "6415f02e"
      },
      "source": [
        "#### 28. Ixtiyoriy kichik massivlar yarating, ular yigʻindisini `np.sum` funksiyasidanda tezroq hisoblovchi dastur tuzing.\n"
      ]
    },
    {
      "cell_type": "markdown",
      "source": [
        "`💡Ishora` np.add.reduce"
      ],
      "metadata": {
        "id": "129e785f"
      },
      "id": "129e785f"
    },
    {
      "cell_type": "code",
      "source": [
        "a = np.random.randint(1, 100, size=10)\n",
        "\n",
        "# np.add.reduce yordamida yig‘indi\n",
        "sum_reduce = np.add.reduce(a)\n",
        "\n",
        "print(\"Massiv:\", a)\n",
        "print(\"Yig‘indi (np.add.reduce):\", sum_reduce)\n",
        "\n"
      ],
      "metadata": {
        "id": "M0Xv2bB9VYQZ",
        "outputId": "881edc79-8f29-4b2e-d3a2-4f1883054549",
        "colab": {
          "base_uri": "https://localhost:8080/"
        }
      },
      "id": "M0Xv2bB9VYQZ",
      "execution_count": 25,
      "outputs": [
        {
          "output_type": "stream",
          "name": "stdout",
          "text": [
            "Massiv: [34 51  4 23 97 78 21 79 90 24]\n",
            "Yig‘indi (np.add.reduce): 501\n"
          ]
        }
      ]
    },
    {
      "cell_type": "markdown",
      "id": "58be9dd4",
      "metadata": {
        "id": "58be9dd4"
      },
      "source": [
        "#### 29. [1, 2, 3, 4, 5] vektor berilgan, har bir qiymat orasiga ketma-ket 3 ta nol raqamini yozuvchi dastur tuzing.\n"
      ]
    },
    {
      "cell_type": "markdown",
      "source": [
        "`💡Ishora` array[::4]"
      ],
      "metadata": {
        "id": "9cf9e134"
      },
      "id": "9cf9e134"
    },
    {
      "cell_type": "code",
      "source": [
        "arr = np.array([1, 2, 3, 4, 5])\n",
        "\n",
        "# Har bir elementdan keyin 3 ta nol qo'shish uchun kerakli uzunlik\n",
        "result = np.zeros(len(arr) * 4 - 3, dtype=int)  # 4 = 1 element + 3 nol\n",
        "\n",
        "# Har 4-elementda asl qiymatni joylash\n",
        "result[::4] = arr\n",
        "\n",
        "print(result)"
      ],
      "metadata": {
        "id": "04IuJ2jaZeYu",
        "outputId": "856773db-59c0-48ee-a2b3-1179183acc2f",
        "colab": {
          "base_uri": "https://localhost:8080/"
        }
      },
      "id": "04IuJ2jaZeYu",
      "execution_count": 26,
      "outputs": [
        {
          "output_type": "stream",
          "name": "stdout",
          "text": [
            "[1 0 0 0 2 0 0 0 3 0 0 0 4 0 0 0 5]\n"
          ]
        }
      ]
    },
    {
      "cell_type": "markdown",
      "id": "781fa236",
      "metadata": {
        "id": "781fa236"
      },
      "source": [
        "#### 30. Quyidagi `a` massiv berilgan, a = [1,2,3,4,5,6,7,8,9,10,11,12,13,14] undan foydalangan holda `b` massivni yarata olasizmi, b = [[1,2,3,4], [2,3,4,5], [3,4,5,6], ..., [11,12,13,14]]?"
      ]
    },
    {
      "cell_type": "markdown",
      "source": [
        "`💡Ishora` stride_tricks.as_strided"
      ],
      "metadata": {
        "id": "82e3d17e"
      },
      "id": "82e3d17e"
    },
    {
      "cell_type": "code",
      "source": [
        "import numpy as np\n",
        "from numpy.lib.stride_tricks import as_strided\n",
        "\n",
        "a = np.array([1,2,3,4,5,6,7,8,9,10,11,12,13,14])\n",
        "\n",
        "window_size = 4\n",
        "num_windows = len(a) - window_size + 1\n",
        "\n",
        "# Stride'ni olish\n",
        "stride = a.strides[0]\n",
        "\n",
        "# Sliding window massivini yaratish\n",
        "b = as_strided(a, shape=(num_windows, window_size), strides=(stride, stride))\n",
        "\n",
        "print(b)"
      ],
      "metadata": {
        "id": "S1H6ivCua3NZ",
        "outputId": "5978aa58-0771-4b12-d9c8-c6818ff7560c",
        "colab": {
          "base_uri": "https://localhost:8080/"
        }
      },
      "id": "S1H6ivCua3NZ",
      "execution_count": 28,
      "outputs": [
        {
          "output_type": "stream",
          "name": "stdout",
          "text": [
            "[[ 1  2  3  4]\n",
            " [ 2  3  4  5]\n",
            " [ 3  4  5  6]\n",
            " [ 4  5  6  7]\n",
            " [ 5  6  7  8]\n",
            " [ 6  7  8  9]\n",
            " [ 7  8  9 10]\n",
            " [ 8  9 10 11]\n",
            " [ 9 10 11 12]\n",
            " [10 11 12 13]\n",
            " [11 12 13 14]]\n"
          ]
        }
      ]
    },
    {
      "cell_type": "markdown",
      "id": "7d8dc135",
      "metadata": {
        "id": "7d8dc135"
      },
      "source": [
        "#### 31. Ixtiyoriy sonlardan tashkil topgan massiv yarating, unga oʻxshash qiymatlar kiriting. Soʻng, oʻxshash qiymatlarni topuvchi dastur tuzing.\n"
      ]
    },
    {
      "cell_type": "markdown",
      "source": [
        "`💡Ishora` np.bincount, argmax"
      ],
      "metadata": {
        "id": "81844e99"
      },
      "id": "81844e99"
    },
    {
      "cell_type": "code",
      "source": [
        "a = np.random.randint(0, 10, size=20)  # 0 dan 9 gacha bo‘lgan sonlardan 20 tasi\n",
        "\n",
        "print(\"Massiv:\", a)\n",
        "\n",
        "counts = np.bincount(a)\n",
        "\n",
        "print(\"Qiymatlar chastotasi:\", counts)\n",
        "\n",
        "most_common = np.argmax(counts)\n",
        "\n",
        "print(\"Eng ko‘p uchragan qiymat:\", most_common)\n",
        "print(\"Uchragan soni:\", counts[most_common])"
      ],
      "metadata": {
        "id": "SiRaNwxjbaQN",
        "outputId": "37cd1a11-7064-4b71-8b8b-fe3d1804b132",
        "colab": {
          "base_uri": "https://localhost:8080/"
        }
      },
      "id": "SiRaNwxjbaQN",
      "execution_count": 29,
      "outputs": [
        {
          "output_type": "stream",
          "name": "stdout",
          "text": [
            "Massiv: [5 9 1 0 4 8 8 9 3 7 9 5 7 3 6 8 3 2 4 8]\n",
            "Qiymatlar chastotasi: [1 1 1 3 2 2 1 2 4 3]\n",
            "Eng ko‘p uchragan qiymat: 8\n",
            "Uchragan soni: 4\n"
          ]
        }
      ]
    },
    {
      "cell_type": "markdown",
      "source": [
        "#### BONUS topshiriq\n",
        "\n",
        "`💡Oʻzingiz javob berishni istagan savolni kiriting va unga javob bering.`"
      ],
      "metadata": {
        "id": "URzxwwODb0m_"
      },
      "id": "URzxwwODb0m_"
    },
    {
      "cell_type": "code",
      "source": [],
      "metadata": {
        "id": "9xpR0GVrbzuk"
      },
      "id": "9xpR0GVrbzuk",
      "execution_count": null,
      "outputs": []
    }
  ],
  "metadata": {
    "hide_input": false,
    "kernelspec": {
      "display_name": "Python 3",
      "language": "python",
      "name": "python3"
    },
    "language_info": {
      "codemirror_mode": {
        "name": "ipython",
        "version": 3
      },
      "file_extension": ".py",
      "mimetype": "text/x-python",
      "name": "python",
      "nbconvert_exporter": "python",
      "pygments_lexer": "ipython3",
      "version": "3.8.8"
    },
    "toc": {
      "base_numbering": 1,
      "nav_menu": {},
      "number_sections": true,
      "sideBar": true,
      "skip_h1_title": false,
      "title_cell": "Table of Contents",
      "title_sidebar": "Contents",
      "toc_cell": false,
      "toc_position": {},
      "toc_section_display": true,
      "toc_window_display": false
    },
    "varInspector": {
      "cols": {
        "lenName": 16,
        "lenType": 16,
        "lenVar": 40
      },
      "kernels_config": {
        "python": {
          "delete_cmd_postfix": "",
          "delete_cmd_prefix": "del ",
          "library": "var_list.py",
          "varRefreshCmd": "print(var_dic_list())"
        },
        "r": {
          "delete_cmd_postfix": ") ",
          "delete_cmd_prefix": "rm(",
          "library": "var_list.r",
          "varRefreshCmd": "cat(var_dic_list()) "
        }
      },
      "types_to_exclude": [
        "module",
        "function",
        "builtin_function_or_method",
        "instance",
        "_Feature"
      ],
      "window_display": false
    },
    "colab": {
      "provenance": []
    }
  },
  "nbformat": 4,
  "nbformat_minor": 5
}